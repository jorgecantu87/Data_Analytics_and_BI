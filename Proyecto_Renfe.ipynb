{
 "cells": [
  {
   "attachments": {},
   "cell_type": "markdown",
   "metadata": {},
   "source": [
    "# Proyecto Renfe - Data Analytics y Business Intelligence\n",
    "\n",
    "Recibimos dos datasets:\n",
    "\n",
    "1. `renfe.csv`: Información de búsquedas de billetes que se hicieron en la página de Renfe.\n",
    "2. `coordenadas_ciudades.csv`: Latitud y longitud de provincias españolas.\n",
    "\n",
    "Queremos usar estos datasets para un modelo de Machine Learning que utilizaremos para predecir los precios de los billetes. Y, para ello, necesitamos limpiar, explorar y pre-procesar el dataset.\n",
    "\n",
    "## Reglas de juego\n",
    "\n",
    "1. El proyecto se debe entregar en grupos de dos o individualmente. \n",
    "2. Cada respuesta correcta suma un punto.\n",
    "3. La calificación final consistirá en la suma de todos los puntos obtenidos sobre el total de puntos posibles.\n",
    "\n",
    "\n",
    "## Diccionario de datos\n",
    "\n",
    "Esta es la información provista:\n",
    "\n",
    "### `renfe.csv`\n",
    "- `FECHA_CONSULTA`: Fecha en la que se consultó la página.\n",
    "- `FECHA_INICIO`: Fecha de inicio del trayecto.\n",
    "- `FECHA_FIN`: Fecha de finalización del trayecto.\n",
    "- `CIUDAD_ORIGEN`: Ciudad de origen del trayecto.\n",
    "- `CIUDAD_DESTINO`: Ciudad destino del trayecto.\n",
    "- `TIPO_TREN`: Tipo de tren.\n",
    "- `TIPO_TARIFA`: Tipo de tarifa del billete.\n",
    "- `CLASE`: Clase del asiento seleccionado.\n",
    "- `PRECIO`: Precio del tren seleccionado.\n",
    "\n",
    "### `coordenadas_ciudades.csv`\n",
    "- `ciudad`: Nombre de la ciudad.\n",
    "- `latitud`: Coordenada de latitud de la ciudad.\n",
    "- `longitud`: Coordenada de longitud de la ciudad."
   ]
  },
  {
   "attachments": {},
   "cell_type": "markdown",
   "metadata": {},
   "source": [
    "## Importar librerías"
   ]
  },
  {
   "cell_type": "code",
   "execution_count": null,
   "metadata": {},
   "outputs": [],
   "source": [
    "import numpy as np\n",
    "import pandas as pd \n",
    "import plotly.express as px\n",
    "import plotly.io as pio\n",
    "from datetime import datetime\n",
    "import folium\n",
    "pd.set_option(\"display.max_columns\", 500)\n",
    "pd.set_option('display.float_format', lambda x: '%.2f' % x)\n"
   ]
  },
  {
   "attachments": {},
   "cell_type": "markdown",
   "metadata": {},
   "source": [
    "# Leer el dataset `renfe.csv`"
   ]
  },
  {
   "cell_type": "code",
   "execution_count": null,
   "metadata": {},
   "outputs": [],
   "source": [
    "df = pd.read_csv(\"D:/Anaconda/Nuclio/Proyecto_renfe/data/renfe.csv\", sep=\";\", encoding= \"UTF-8\")"
   ]
  },
  {
   "cell_type": "code",
   "execution_count": null,
   "metadata": {},
   "outputs": [],
   "source": [
    "df"
   ]
  },
  {
   "attachments": {},
   "cell_type": "markdown",
   "metadata": {},
   "source": [
    "## Visualizar las primeras y las últimas filas del dataset"
   ]
  },
  {
   "cell_type": "code",
   "execution_count": null,
   "metadata": {},
   "outputs": [],
   "source": [
    "df.head()"
   ]
  },
  {
   "cell_type": "code",
   "execution_count": null,
   "metadata": {},
   "outputs": [],
   "source": [
    "df.tail()"
   ]
  },
  {
   "cell_type": "code",
   "execution_count": null,
   "metadata": {},
   "outputs": [],
   "source": [
    "df.shape"
   ]
  },
  {
   "attachments": {},
   "cell_type": "markdown",
   "metadata": {},
   "source": [
    "## Cambiar los nombres de todas las columnas a minúsculas"
   ]
  },
  {
   "cell_type": "code",
   "execution_count": null,
   "metadata": {},
   "outputs": [],
   "source": [
    "#Reviso el nombre de las columnas\n",
    "df.columns"
   ]
  },
  {
   "cell_type": "code",
   "execution_count": null,
   "metadata": {},
   "outputs": [],
   "source": [
    "#Reviso que mi codigo funciona como quiero que funcione\n",
    "df.columns.str.lower()"
   ]
  },
  {
   "cell_type": "code",
   "execution_count": null,
   "metadata": {},
   "outputs": [],
   "source": [
    "#Hago el cambio e imprimo\n",
    "df.columns = df.columns.str.lower()\n",
    "df.columns"
   ]
  },
  {
   "cell_type": "code",
   "execution_count": null,
   "metadata": {},
   "outputs": [],
   "source": [
    "#Reviso que el dataframe se ve como espero que se vea\n",
    "df.head()"
   ]
  },
  {
   "attachments": {},
   "cell_type": "markdown",
   "metadata": {},
   "source": [
    "## Mostrar los tipos de datos de cada columna"
   ]
  },
  {
   "cell_type": "code",
   "execution_count": null,
   "metadata": {},
   "outputs": [],
   "source": [
    "df.info()"
   ]
  },
  {
   "cell_type": "code",
   "execution_count": null,
   "metadata": {},
   "outputs": [],
   "source": [
    "#Reviso en general cuantos nan va a haber\n",
    "df.isna().sum()"
   ]
  },
  {
   "attachments": {},
   "cell_type": "markdown",
   "metadata": {},
   "source": [
    "## Cambiar los tipos de datos, por los tipos adecuados"
   ]
  },
  {
   "cell_type": "code",
   "execution_count": null,
   "metadata": {},
   "outputs": [],
   "source": [
    "#Reviso que el codigo funcione\n",
    "pd.to_datetime(df['fecha_fin'])"
   ]
  },
  {
   "cell_type": "code",
   "execution_count": null,
   "metadata": {},
   "outputs": [],
   "source": [
    "#Aplico en cada columna\n",
    "df['fecha_consulta'] = pd.to_datetime(df['fecha_consulta'])\n",
    "df['fecha_inicio'] = pd.to_datetime(df['fecha_inicio'])\n",
    "df['fecha_fin'] = pd.to_datetime(df['fecha_fin'])\n",
    "df.info()"
   ]
  },
  {
   "attachments": {},
   "cell_type": "markdown",
   "metadata": {},
   "source": [
    "## Tratamiento de filas duplicadas"
   ]
  },
  {
   "cell_type": "code",
   "execution_count": null,
   "metadata": {},
   "outputs": [],
   "source": [
    "#Reviso cuantas filas duplicada hay\n",
    "df.duplicated().sum()"
   ]
  },
  {
   "cell_type": "code",
   "execution_count": null,
   "metadata": {},
   "outputs": [],
   "source": [
    "#Las ordeno para ver si hay algo raro, no encuentro nada mas que duplicidad, \n",
    "# que a menos que quiera contar el numero de solicitudes no representa problema eliminarlas\n",
    "df.loc[df.duplicated(keep=False)].sort_values(by = 'fecha_consulta').reset_index()"
   ]
  },
  {
   "attachments": {},
   "cell_type": "markdown",
   "metadata": {},
   "source": [
    "### Quitar las filas duplicadas"
   ]
  },
  {
   "cell_type": "code",
   "execution_count": null,
   "metadata": {},
   "outputs": [],
   "source": [
    "#Reviso como quedaria despues del borrado\n",
    "df.shape, df.drop_duplicates().shape"
   ]
  },
  {
   "cell_type": "code",
   "execution_count": null,
   "metadata": {},
   "outputs": [],
   "source": [
    "#Elimino duplicados\n",
    "df = df.drop_duplicates()"
   ]
  },
  {
   "cell_type": "code",
   "execution_count": null,
   "metadata": {},
   "outputs": [],
   "source": [
    "#Ordeno para tener mejor visualización de los datos\n",
    "df.sort_values(by = 'fecha_consulta').reset_index(drop=True)"
   ]
  },
  {
   "cell_type": "code",
   "execution_count": null,
   "metadata": {},
   "outputs": [],
   "source": [
    "#Aplico el cambio\n",
    "df = df.sort_values(by = 'fecha_consulta').reset_index(drop=True) "
   ]
  },
  {
   "cell_type": "code",
   "execution_count": null,
   "metadata": {},
   "outputs": [],
   "source": [
    "#Doy un vistazo de como quedo ordenada y sin duplicados\n",
    "df"
   ]
  },
  {
   "attachments": {},
   "cell_type": "markdown",
   "metadata": {},
   "source": [
    "## Valores nulos y análisis de `precio`"
   ]
  },
  {
   "cell_type": "code",
   "execution_count": null,
   "metadata": {},
   "outputs": [],
   "source": [
    "#Busco nan y los sumo para que se muestren todas las columnas que tengan nulos.\n",
    "df.isna().sum()"
   ]
  },
  {
   "cell_type": "code",
   "execution_count": null,
   "metadata": {},
   "outputs": [],
   "source": [
    "#Los muestro todos juntos\n",
    "df.tipo_tarifa.isnull().value_counts(normalize=True)*100,\\\n",
    "df.clase.isnull().value_counts(normalize=True)*100,\\\n",
    "df.precio.isnull().value_counts(normalize=True)*100"
   ]
  },
  {
   "attachments": {},
   "cell_type": "markdown",
   "metadata": {},
   "source": [
    "### Percentiles importantes (25%, 50%, 75%), minimo y máximo de `precio`?"
   ]
  },
  {
   "cell_type": "code",
   "execution_count": null,
   "metadata": {},
   "outputs": [],
   "source": [
    "df.precio.describe()"
   ]
  },
  {
   "cell_type": "code",
   "execution_count": null,
   "metadata": {},
   "outputs": [],
   "source": [
    "#Encontre 0s al describir en el paso anterior \n",
    "# y por los análisis que hice en la eliminación de duplicados deduje que solo los 0s eran posibles errores.\n",
    "#Reviso que implica eliminarlos\n",
    "df.shape, df.loc[df['precio'] != 0].shape"
   ]
  },
  {
   "cell_type": "code",
   "execution_count": null,
   "metadata": {},
   "outputs": [],
   "source": [
    "#Aplico la eliminación\n",
    "df = df.loc[df['precio'] != 0]"
   ]
  },
  {
   "attachments": {},
   "cell_type": "markdown",
   "metadata": {},
   "source": [
    "### Reemplazar los valores nulos en `precio` por la media de esa columna"
   ]
  },
  {
   "cell_type": "code",
   "execution_count": null,
   "metadata": {},
   "outputs": [],
   "source": [
    "#Aqui parece que estoy haciendo una tonteria pero estoy revisando que si se reemplacen con este codigo\n",
    "df['precio'].fillna(df.precio.mean()).isna().value_counts()"
   ]
  },
  {
   "cell_type": "code",
   "execution_count": null,
   "metadata": {},
   "outputs": [],
   "source": [
    "#Aplico el cambio\n",
    "df['precio'].fillna(df.precio.mean(),inplace=True)"
   ]
  },
  {
   "cell_type": "code",
   "execution_count": null,
   "metadata": {},
   "outputs": [],
   "source": [
    "#Reviso todos las columnas para ver que ha cambiado\n",
    "df.isna().sum()"
   ]
  },
  {
   "attachments": {},
   "cell_type": "markdown",
   "metadata": {},
   "source": [
    "### Eliminación de las filas donde `clase` o `tipo_tarifa` sean nulos"
   ]
  },
  {
   "cell_type": "code",
   "execution_count": null,
   "metadata": {},
   "outputs": [],
   "source": [
    "#Reviso que coincidan los nulos de clase con los nulos en clase o tipo tarifa para hacer un solo eliminado\n",
    "df.loc[df.clase.isna()].shape , df.loc[(df.clase.isna())|(df.tipo_tarifa.isna())].shape"
   ]
  },
  {
   "cell_type": "code",
   "execution_count": null,
   "metadata": {},
   "outputs": [],
   "source": [
    "#Reviso que cambios van a suceder\n",
    "df.shape, df.dropna(subset=['clase', 'tipo_tarifa']).shape"
   ]
  },
  {
   "cell_type": "code",
   "execution_count": null,
   "metadata": {},
   "outputs": [],
   "source": [
    "#Aplico los cambios\n",
    "df = df.dropna(subset=['clase', 'tipo_tarifa'])"
   ]
  },
  {
   "attachments": {},
   "cell_type": "markdown",
   "metadata": {},
   "source": [
    "## Tiempo de viaje"
   ]
  },
  {
   "attachments": {},
   "cell_type": "markdown",
   "metadata": {},
   "source": [
    "### Calculo el tiempo de viaje en minutos (fecha_fin - fecha_inicio)"
   ]
  },
  {
   "cell_type": "code",
   "execution_count": null,
   "metadata": {},
   "outputs": [],
   "source": [
    "#Reviso las columnas y en que formato esta la información\n",
    "df.head(3)"
   ]
  },
  {
   "cell_type": "code",
   "execution_count": null,
   "metadata": {},
   "outputs": [],
   "source": [
    "#Creo una nueva columna y aplico el calculo\n",
    "df['tiempo_de_viaje'] = (df['fecha_fin'] - df['fecha_inicio']).dt.total_seconds() / 60"
   ]
  },
  {
   "cell_type": "code",
   "execution_count": null,
   "metadata": {},
   "outputs": [],
   "source": [
    "#Reviso que se creó\n",
    "df.head(3)"
   ]
  },
  {
   "cell_type": "code",
   "execution_count": null,
   "metadata": {},
   "outputs": [],
   "source": [
    "#Doy un vistazo para ver si hay algo extraño, me preocupa el viaje de 12 horas pero no creo que sea imposible\n",
    "df.describe()"
   ]
  },
  {
   "attachments": {},
   "cell_type": "markdown",
   "metadata": {},
   "source": [
    "### Histograma de la variable que acabas de crear (`tiempo_de_viaje`)"
   ]
  },
  {
   "cell_type": "code",
   "execution_count": null,
   "metadata": {},
   "outputs": [],
   "source": [
    "#Muestro la grafica simple y al ver otros viajes tambien de larga duración, no me preocupa mas el de 12 horas\n",
    "df.plot(x='tiempo_de_viaje', kind='hist',backend='plotly',)"
   ]
  },
  {
   "attachments": {},
   "cell_type": "markdown",
   "metadata": {},
   "source": [
    "## Día, el nombre del día, el mes y la hora de `fecha_inicio`"
   ]
  },
  {
   "cell_type": "code",
   "execution_count": null,
   "metadata": {},
   "outputs": [],
   "source": [
    "#Reviso rapido que todo se vea como lo espero\n",
    "df['fecha_inicio'].dt.day ,df['fecha_inicio'].dt.day_name() ,df['fecha_inicio'].dt.month ,df['fecha_inicio'].dt.hour"
   ]
  },
  {
   "cell_type": "code",
   "execution_count": null,
   "metadata": {},
   "outputs": [],
   "source": [
    "#Creo las nuevas columnas\n",
    "df['dia'] = df['fecha_inicio'].dt.day\n",
    "df['nombre_dia'] = df['fecha_inicio'].dt.day_name()\n",
    "df['mes'] = df['fecha_inicio'].dt.month\n",
    "df['hora'] = df['fecha_inicio'].dt.hour\n",
    "df.head(3)"
   ]
  },
  {
   "attachments": {},
   "cell_type": "markdown",
   "metadata": {},
   "source": [
    "## Eliminar las columnas `fecha_consulta`, `fecha_inicio` y `fecha_fin` del dataset"
   ]
  },
  {
   "cell_type": "code",
   "execution_count": null,
   "metadata": {},
   "outputs": [],
   "source": [
    "#Hago una copia, en caso de que vuelva a requerir estas columnas que voy a eliminar\n",
    "df_respaldo = df.copy"
   ]
  },
  {
   "cell_type": "code",
   "execution_count": null,
   "metadata": {},
   "outputs": [],
   "source": [
    "#Muestro las columnas para copiar y pegar en el codigo \n",
    "df.columns"
   ]
  },
  {
   "cell_type": "code",
   "execution_count": null,
   "metadata": {},
   "outputs": [],
   "source": [
    "#Reviso como va a quedar\n",
    "df.drop(['fecha_consulta', 'fecha_inicio', 'fecha_fin'],axis=1)"
   ]
  },
  {
   "cell_type": "code",
   "execution_count": null,
   "metadata": {},
   "outputs": [],
   "source": [
    "#Aplico y doy un vistazo\n",
    "df = df.drop(['fecha_consulta', 'fecha_inicio', 'fecha_fin'],axis=1)\n",
    "df.head(3)"
   ]
  },
  {
   "attachments": {},
   "cell_type": "markdown",
   "metadata": {},
   "source": [
    "## Lectura del dataset `coordenadas_ciudades.csv` y unión con el dataset procesado hasta ahora (utiliza `ciudad_destino` para el `join`)"
   ]
  },
  {
   "cell_type": "code",
   "execution_count": null,
   "metadata": {},
   "outputs": [],
   "source": [
    "df_coor = pd.read_csv(\"D:/Anaconda/Nuclio/Proyecto_renfe/data/coordenadas_ciudades.csv\")\n",
    "df_coor"
   ]
  },
  {
   "cell_type": "code",
   "execution_count": null,
   "metadata": {},
   "outputs": [],
   "source": [
    "#Hago un join con valores por defecto\n",
    "df2= df.join(df_coor.set_index('ciudad'), on='ciudad_destino')\n",
    "df2.head(10)"
   ]
  },
  {
   "attachments": {},
   "cell_type": "markdown",
   "metadata": {},
   "source": [
    "## Gráfica en un mapa el precio medio por ciudad de destino"
   ]
  },
  {
   "cell_type": "code",
   "execution_count": null,
   "metadata": {},
   "outputs": [],
   "source": [
    "#Agrupo y saco el precio medio\n",
    "df2.groupby('ciudad_destino')['precio'].mean().reset_index()"
   ]
  },
  {
   "cell_type": "code",
   "execution_count": null,
   "metadata": {},
   "outputs": [],
   "source": [
    "#Creo un pequeño DataFrame\n",
    "precio_medio = df2.groupby('ciudad_destino')['precio'].mean().reset_index()\n",
    "precio_medio"
   ]
  },
  {
   "cell_type": "code",
   "execution_count": null,
   "metadata": {},
   "outputs": [],
   "source": [
    "#Creo otro pequeño DataFrame con .agg para agregar las dos columnas al mismo tiempo\n",
    "df2.groupby('ciudad_destino').agg({'latitud': 'mean', 'longitud': 'mean'}).reset_index()"
   ]
  },
  {
   "cell_type": "code",
   "execution_count": null,
   "metadata": {},
   "outputs": [],
   "source": [
    "#Creo otro pequeño DataFrame con .agg para agregar las dos columnas al mismo tiempo\n",
    "coor = df2.groupby('ciudad_destino').agg({'latitud': 'mean', 'longitud': 'mean'}).reset_index()\n",
    "coor"
   ]
  },
  {
   "cell_type": "code",
   "execution_count": null,
   "metadata": {},
   "outputs": [],
   "source": [
    "#Hago un merge para unir todo\n",
    "precio_medio.merge(coor, on='ciudad_destino')"
   ]
  },
  {
   "cell_type": "code",
   "execution_count": null,
   "metadata": {},
   "outputs": [],
   "source": [
    "#Hago un merge para unir todo\n",
    "precio_medio = precio_medio.merge(coor, on='ciudad_destino')\n",
    "precio_medio"
   ]
  },
  {
   "cell_type": "code",
   "execution_count": null,
   "metadata": {},
   "outputs": [],
   "source": [
    "#Hago el mapa con el centro de Madrid como centro y el zoom del tamaño que se vea bien\n",
    "mapa = folium.Map(location=[40.4168, -3.7038], zoom_start=6)\n",
    "\n",
    "#Se dibujan los puntos de cada ciudad y sus caracteristicas\n",
    "for index, row in precio_medio.iterrows():\n",
    "    folium.CircleMarker(\n",
    "        location=[row['latitud'], row['longitud']],\n",
    "        popup=f\"{row['ciudad_destino']}: {row['precio']:.2f} EUR\",\n",
    "        color=\"blue\",\n",
    "        weight=0,\n",
    "        radius= row['precio']/2,\n",
    "        fill=True,\n",
    "        fill_opacity=0.6,\n",
    "        opacity=1,\n",
    "    ).add_to(mapa)\n",
    "\n",
    "#Muestro el mapa\n",
    "mapa.save('mapa_precio_medio.html')\n",
    "mapa"
   ]
  },
  {
   "attachments": {},
   "cell_type": "markdown",
   "metadata": {},
   "source": [
    "## Tabla de correlación"
   ]
  },
  {
   "cell_type": "code",
   "execution_count": null,
   "metadata": {},
   "outputs": [],
   "source": [
    "#Creo la matriz de correlación\n",
    "matriz_de_correlacion = df2.corr(numeric_only=True)"
   ]
  },
  {
   "cell_type": "code",
   "execution_count": null,
   "metadata": {},
   "outputs": [],
   "source": [
    "#Muestro la matriz para analizarla\n",
    "matriz_de_correlacion"
   ]
  },
  {
   "cell_type": "markdown",
   "metadata": {},
   "source": [
    "__________________________________________________________________________________________________________________________"
   ]
  },
  {
   "cell_type": "markdown",
   "metadata": {},
   "source": [
    "#### Tiempo de viaje.\n",
    "#### La correlación muestra una tendecia moderada negativa con respecto del tiempo de viaje lo que nos daria a entender que a medida que el tiempo de viaje aumenta el precio disminuye.\n",
    "\n",
    "#### Mes.\n",
    "#### La correlación muestra una tendecia moderada negativa con respecto del mes lo que nos daria a entender que a medida que el mes aumenta el precio disminuye.\n",
    "\n",
    "#### Latitud y Longitud.\n",
    "#### La correlación muestra una tendecia moderada positiva con respecto de longitud y latitud lo que nos daria a entender que a medida que el destino está mas al noreste, el precio es mas alto.\n",
    "\n",
    "#### Dia y hora.\n",
    "#### Los desestimo por tener una correlacion muy baja positiva.\n",
    "\n",
    "#### Estas correlaciones con respecto del precio no son necesariamente absolutas y debido a que los valores son moderados no significan una realidad importante, solo marcan una ligera tendencia.\n"
   ]
  },
  {
   "cell_type": "markdown",
   "metadata": {},
   "source": [
    "___________________________________________________________________________________________________________________________"
   ]
  },
  {
   "attachments": {},
   "cell_type": "markdown",
   "metadata": {},
   "source": [
    "## Relación entre variables del dataset y `precio`"
   ]
  },
  {
   "attachments": {},
   "cell_type": "markdown",
   "metadata": {},
   "source": [
    "### Scatter plot de precio vs. tiempo de viaje"
   ]
  },
  {
   "cell_type": "code",
   "execution_count": null,
   "metadata": {},
   "outputs": [],
   "source": [
    "#Muestro columnas para copiar y pegar\n",
    "df2.columns"
   ]
  },
  {
   "cell_type": "code",
   "execution_count": null,
   "metadata": {},
   "outputs": [],
   "source": [
    "#Muestro las graficas por ciudad destino desde ciudad orgien\n",
    "px.scatter(df2,x='precio',y='tiempo_de_viaje',labels={'ciudad_origen':'Origen',\\\n",
    "           'ciudad_destino':'Destino','precio':'Precio', 'tiempo_de_viaje':'Duración'},\\\n",
    "            color='ciudad_destino', facet_col='ciudad_origen',facet_col_wrap=3,\\\n",
    "            hover_data=['ciudad_origen','ciudad_destino','tipo_tarifa','tipo_tren'])"
   ]
  },
  {
   "attachments": {},
   "cell_type": "markdown",
   "metadata": {},
   "source": [
    "### Boxplot de precio vs. dia de la semana"
   ]
  },
  {
   "cell_type": "code",
   "execution_count": null,
   "metadata": {},
   "outputs": [],
   "source": [
    "#Muestro las columnas para copiar y pegar\n",
    "df2.columns"
   ]
  },
  {
   "cell_type": "code",
   "execution_count": null,
   "metadata": {},
   "outputs": [],
   "source": [
    "#ordeno los días de la semana en el DataFrame\n",
    "dias_ordenados = ['Monday', 'Tuesday', 'Wednesday', 'Thursday', 'Friday', 'Saturday', 'Sunday']\n",
    "df2['nombre_dia'] = pd.Categorical(df2['nombre_dia'], categories=dias_ordenados, ordered=True)\n",
    "df2 = df2.sort_values('nombre_dia')\n",
    "\n",
    "#Muestro la grafica\n",
    "px.box(df2, x='nombre_dia', y='precio', \\\n",
    "    category_orders={'nombre_dia': dias_ordenados},labels={'nombre_dia':'Días de la semana', 'precio':'Precio'}, \\\n",
    "    hover_data=['ciudad_destino', 'tipo_tren', 'tipo_tarifa', 'clase'])"
   ]
  },
  {
   "attachments": {},
   "cell_type": "markdown",
   "metadata": {},
   "source": [
    "### Gráfica el precio medio por día de la semana"
   ]
  },
  {
   "cell_type": "code",
   "execution_count": null,
   "metadata": {},
   "outputs": [],
   "source": [
    "#Agrúpo y hago la columna de precio medio\n",
    "df2.groupby('nombre_dia').agg({'precio': 'mean'}).reset_index()"
   ]
  },
  {
   "cell_type": "code",
   "execution_count": null,
   "metadata": {},
   "outputs": [],
   "source": [
    "#Aplico el cogido a una variable\n",
    "p_medio_dia_semana = df2.groupby('nombre_dia').agg({'precio': 'mean'}).reset_index()\n",
    "#Hago la grafica\n",
    "fig = px.bar(p_medio_dia_semana, x='nombre_dia', y='precio', title='Precios por día de la semana', text='precio', \n",
    "             labels={'nombre_dia': 'Día de la semana', 'precio': 'Precio medio'}, \n",
    "             category_orders={'nombre_dia': dias_ordenados})\n",
    "#Acomodo las etiquetas de precio para que se muestren en las barras y las etiquetas de los axis\n",
    "fig.update_traces(texttemplate='%{text:.2f}', textposition='outside')\n",
    "fig.update_layout(uniformtext_minsize=8, uniformtext_mode='hide', yaxis_title='Precio', xaxis_title='Día de la semana')\n",
    "\n",
    "fig.show()"
   ]
  },
  {
   "attachments": {},
   "cell_type": "markdown",
   "metadata": {},
   "source": [
    "## Nuevo dataframe *one-hot-encoding* a las variables categoricas"
   ]
  },
  {
   "cell_type": "code",
   "execution_count": null,
   "metadata": {},
   "outputs": [],
   "source": [
    "#Reviso el DataFrame para ver que columnas serian mejor para hacerlas categoricas\n",
    "df2.head(10)"
   ]
  },
  {
   "cell_type": "code",
   "execution_count": null,
   "metadata": {},
   "outputs": [],
   "source": [
    "#Importo onhotencoder de sklearn.preprocessing\n",
    "from sklearn.preprocessing import OneHotEncoder\n",
    "#Selecciono las columnas y las guardo en una variable\n",
    "categorical_columns = ['ciudad_origen', 'ciudad_destino', 'tipo_tren', 'tipo_tarifa', 'clase','nombre_dia']\n",
    "#Hago un nuevo DataFrame con las columnas categorica y las presento en 1 y 0 por que me gusta mas que \"True\" y \"False\" \n",
    "df_encoded = pd.get_dummies(df2, columns=categorical_columns, dtype= int)\n",
    "\n",
    "df_encoded"
   ]
  }
 ],
 "metadata": {
  "interpreter": {
   "hash": "f95277ffa606a35557c638e3347ebf36a745f70f7d65299eb7247e0781680f94"
  },
  "kernelspec": {
   "display_name": "Python 3",
   "language": "python",
   "name": "python3"
  },
  "language_info": {
   "codemirror_mode": {
    "name": "ipython",
    "version": 3
   },
   "file_extension": ".py",
   "mimetype": "text/x-python",
   "name": "python",
   "nbconvert_exporter": "python",
   "pygments_lexer": "ipython3",
   "version": "3.11.7"
  }
 },
 "nbformat": 4,
 "nbformat_minor": 2
}
